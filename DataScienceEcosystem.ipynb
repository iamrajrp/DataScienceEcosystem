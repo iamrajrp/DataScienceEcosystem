{
 "cells": [
  {
   "cell_type": "markdown",
   "id": "bf499f72-3543-4fa1-aa82-9b925819d790",
   "metadata": {},
   "source": [
    "# Data Science Tools and Ecosystem"
   ]
  },
  {
   "cell_type": "markdown",
   "id": "d6ef619a-df69-467e-b487-af622bb7f8db",
   "metadata": {},
   "source": [
    "In this notebook, Data Science Tools and Ecosystem are summarized."
   ]
  },
  {
   "cell_type": "markdown",
   "id": "459d2976-d045-4856-b8fd-0d69b489efe6",
   "metadata": {},
   "source": [
    "**Objectives:**\n",
    "- List popular languages for Data Science.\n",
    "- List commonly used libraries in Data Science.\n",
    "- Describe commonly used open-source Data Science tools.\n",
    "- Perform basic arithmetic operations in Python.\n",
    "- Convert units using Python expressions."
   ]
  },
  {
   "cell_type": "markdown",
   "id": "be4579bd-b5af-479d-a179-a814c1c584c4",
   "metadata": {},
   "source": [
    "Some of the popular languages that Data Scientists use are:\n",
    "1. Python\n",
    "2. R\n",
    "3. SQL\n",
    "4. Scala\n",
    "5. Julia"
   ]
  },
  {
   "cell_type": "markdown",
   "id": "6436dd18-fda4-47a8-be23-0bb4b33c9e9e",
   "metadata": {},
   "source": [
    "Some of the commonly used libraries used by Data Scientists include:\n",
    "1. NumPy\n",
    "2. Pandas\n",
    "3. TensorFlow\n",
    "4. Matplotlib\n",
    "5. Scikit-learn"
   ]
  },
  {
   "cell_type": "markdown",
   "id": "ffc47054-8b2f-4c6a-b301-f977415dcfe4",
   "metadata": {},
   "source": [
    "| Data Science Tools |\n",
    "| ------------------ |\n",
    "| Jupyter Notebook |\n",
    "| Apache Zeppelin |\n",
    "| RStudio |"
   ]
  },
  {
   "cell_type": "markdown",
   "id": "feb410e3-2516-4108-96ab-77c9a8f32603",
   "metadata": {},
   "source": [
    "### Below are a few examples of evaluating arithmetic expressions in Python"
   ]
  },
  {
   "cell_type": "code",
   "execution_count": 7,
   "id": "8fb9f6fd-55b9-4f65-96f3-28bfaf5d7ce7",
   "metadata": {},
   "outputs": [
    {
     "data": {
      "text/plain": [
       "17"
      ]
     },
     "execution_count": 7,
     "metadata": {},
     "output_type": "execute_result"
    }
   ],
   "source": [
    "# This is a simple arithmetic expression to mutiply and then add integers\n",
    "(3*4)+5"
   ]
  },
  {
   "cell_type": "code",
   "execution_count": 8,
   "id": "d9398fbf-5fb1-433e-8cbc-57e49b61ab53",
   "metadata": {},
   "outputs": [
    {
     "data": {
      "text/plain": [
       "3.3333333333333335"
      ]
     },
     "execution_count": 8,
     "metadata": {},
     "output_type": "execute_result"
    }
   ],
   "source": [
    "# This will convert 200 minutes to hours by diving the minutes by 60\n",
    "200/60"
   ]
  },
  {
   "cell_type": "markdown",
   "id": "8ae33dad-a87b-4fe8-b401-dd6699dfa04a",
   "metadata": {},
   "source": [
    "## Author\n",
    "Raj Pawar"
   ]
  },
  {
   "cell_type": "code",
   "execution_count": null,
   "id": "f1fd978e-236a-4422-8e1c-0ded4accb025",
   "metadata": {},
   "outputs": [],
   "source": []
  }
 ],
 "metadata": {
  "kernelspec": {
   "display_name": "Python 3 (ipykernel)",
   "language": "python",
   "name": "python3"
  },
  "language_info": {
   "codemirror_mode": {
    "name": "ipython",
    "version": 3
   },
   "file_extension": ".py",
   "mimetype": "text/x-python",
   "name": "python",
   "nbconvert_exporter": "python",
   "pygments_lexer": "ipython3",
   "version": "3.12.9"
  }
 },
 "nbformat": 4,
 "nbformat_minor": 5
}
